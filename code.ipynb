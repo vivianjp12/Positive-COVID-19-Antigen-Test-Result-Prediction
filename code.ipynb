{
 "cells": [
  {
   "cell_type": "markdown",
   "metadata": {
    "id": "mz0_QVkxCrX3"
   },
   "source": [
    "# **COVID-19 Cases Prediction (Regression)**\n",
    "\n",
    "---\n",
    "\n",
    "\n",
    "\n"
   ]
  },
  {
   "cell_type": "markdown",
   "metadata": {
    "id": "ilzLcN2qKMde"
   },
   "source": [
    "# **Setup Experiment**"
   ]
  },
  {
   "cell_type": "code",
   "execution_count": null,
   "metadata": {
    "id": "sqnV0o0zB_qD"
   },
   "outputs": [],
   "source": [
    "# basic\n",
    "geo_type = \"state\"\n",
    "exp_num = 1\n",
    "day_seq = [1,3,7,10,14]\n",
    "\n",
    "# model and target\n",
    "model_num = 3\n",
    "model_pr = 'origin'\n",
    "target_only = False\n",
    "\n",
    "# model parameters\n",
    "n_epochs = 5000\n",
    "batch_size = 16\n",
    "optimizer = 'Adam'\n",
    "lr = 0.0001\n",
    "weight_decay = 0.0005\n",
    "betas = (0.9, 0.999)\n",
    "early_stop = 350"
   ]
  },
  {
   "cell_type": "markdown",
   "metadata": {
    "id": "wS_4-77xHk44"
   },
   "source": [
    "# **Import Some Packages**"
   ]
  },
  {
   "cell_type": "code",
   "execution_count": null,
   "metadata": {
    "id": "k-onQd4JNA5H"
   },
   "outputs": [],
   "source": [
    "# PyTorch\n",
    "import torch\n",
    "import torch.nn as nn\n",
    "from torch.utils.data import Dataset, DataLoader\n",
    "\n",
    "# For data preprocess\n",
    "import numpy as np\n",
    "import csv\n",
    "import os\n",
    "import pandas as pd\n",
    "\n",
    "# For plotting\n",
    "import matplotlib.pyplot as plt\n",
    "from matplotlib.pyplot import figure"
   ]
  },
  {
   "cell_type": "markdown",
   "metadata": {
    "id": "BtE3b6JEH7rw"
   },
   "source": [
    "# **Some Utilities**"
   ]
  },
  {
   "cell_type": "code",
   "execution_count": null,
   "metadata": {
    "id": "FWMT3uf1NGQp"
   },
   "outputs": [],
   "source": [
    "def get_device():\n",
    "    ''' Get device (if GPU is available, use GPU) '''\n",
    "    return 'cuda' if torch.cuda.is_available() else 'cpu'\n",
    "\n",
    "def plot_learning_curve(loss_record, title=''):\n",
    "    ''' Plot learning curve of your DNN (train & dev loss) '''\n",
    "    total_steps = len(loss_record['train'])\n",
    "    x_1 = range(total_steps)\n",
    "    x_2 = x_1[::len(loss_record['train']) // len(loss_record['dev'])]\n",
    "    figure(figsize=(6, 4))\n",
    "    plt.plot(x_1, loss_record['train'], c='tab:red', label='train')\n",
    "    plt.plot(x_2, loss_record['dev'], c='tab:cyan', label='dev')\n",
    "    plt.ylim(0.0, 5.)\n",
    "    plt.xlabel('Training steps')\n",
    "    plt.ylabel('MSE loss')\n",
    "    plt.title('Learning curve of {}'.format(title))\n",
    "    plt.legend()\n",
    "    plt.savefig(f'learning_curve_{geo_type}_day{day_num}_exp{exp_num}')\n",
    "    plt.close()\n",
    "    # plt.show()\n",
    "\n",
    "\n",
    "def plot_valid(dv_set, model, device, lim=35., preds=None, targets=None):\n",
    "    ''' Plot validation of your DNN '''\n",
    "    if preds is None or targets is None:\n",
    "        model.eval()\n",
    "        preds, targets = [], []\n",
    "        for x, y in dv_set:\n",
    "            x, y = x.to(device), y.to(device)\n",
    "            with torch.no_grad():\n",
    "                pred = model(x)\n",
    "                preds.append(pred.detach().cpu())\n",
    "                targets.append(y.detach().cpu())\n",
    "        preds = torch.cat(preds, dim=0).numpy()\n",
    "        targets = torch.cat(targets, dim=0).numpy()\n",
    "\n",
    "    figure(figsize=(5, 5))\n",
    "    plt.scatter(targets, preds, c='r', alpha=0.5)\n",
    "    plt.plot([-0.2, lim], [-0.2, lim], c='b')\n",
    "    plt.xlim(-0.2, lim)\n",
    "    plt.ylim(-0.2, lim)\n",
    "    plt.xlabel('ground truth value')\n",
    "    plt.ylabel('predicted value')\n",
    "    plt.title('Ground Truth v.s. Validation')\n",
    "    plt.savefig(f'validation_{geo_type}_day{day_num}_exp{exp_num}')\n",
    "    plt.close()\n",
    "    # plt.show()\n",
    "    \n",
    "def plot_pred(tt_set, model, device, lim=35., preds=None, targets=None):\n",
    "    ''' Plot prediction of your DNN '''\n",
    "    if preds is None or targets is None:\n",
    "        model.eval()\n",
    "        preds, targets = [], []\n",
    "        for x, y in tt_set:\n",
    "            x, y = x.to(device), y.to(device)\n",
    "            with torch.no_grad():\n",
    "                pred = model(x)\n",
    "                preds.append(pred.detach().cpu())\n",
    "                targets.append(y.detach().cpu())\n",
    "        preds = torch.cat(preds, dim=0).numpy()\n",
    "        targets = torch.cat(targets, dim=0).numpy()\n",
    "\n",
    "    figure(figsize=(5, 5))\n",
    "    plt.scatter(targets, preds, c='r', alpha=0.5)\n",
    "    plt.plot([-0.2, lim], [-0.2, lim], c='b')\n",
    "    plt.xlim(-0.2, lim)\n",
    "    plt.ylim(-0.2, lim)\n",
    "    plt.xlabel('ground truth value')\n",
    "    plt.ylabel('predicted value')\n",
    "    plt.title('Ground Truth v.s. Prediction')\n",
    "    plt.savefig(f'prediction_{geo_type}_day{day_num}_exp{exp_num}')\n",
    "    plt.close()\n",
    "    # plt.show()"
   ]
  },
  {
   "cell_type": "markdown",
   "metadata": {
    "id": "39U_XFX6KOoj"
   },
   "source": [
    "# **Preprocess**"
   ]
  },
  {
   "cell_type": "markdown",
   "metadata": {
    "id": "TQ-MdwpLL7Dt"
   },
   "source": [
    "## **Dataset**"
   ]
  },
  {
   "cell_type": "code",
   "execution_count": null,
   "metadata": {
    "id": "0zlpIp9ANJRU"
   },
   "outputs": [],
   "source": [
    "class COVID19Dataset(Dataset):\n",
    "    ''' Dataset for loading and preprocessing the COVID19 dataset '''\n",
    "    def __init__(self,\n",
    "                 path,\n",
    "                 mode='train',\n",
    "                 target_only=False):\n",
    "        self.mode = mode\n",
    "\n",
    "        # Read data into numpy arrays\n",
    "        with open(path, 'r') as fp:\n",
    "            data = list(csv.reader(fp))\n",
    "            data = np.array(data[1:])[:, 1:].astype(float)\n",
    "        \n",
    "        if not target_only:\n",
    "            feats = list(range(day_num*18-1))\n",
    "        else:\n",
    "            # feats = list(range(day_num*4)) + list(range(day_num*17, day_num*18-1))\n",
    "            feats = list(range(day_num*17, day_num*18-1))\n",
    "            pass\n",
    "\n",
    "        if mode == 'test':\n",
    "            # Testing data\n",
    "            data = data[:, feats]\n",
    "            self.data = torch.FloatTensor(data)\n",
    "            target = data[:, -1]\n",
    "            self.target = torch.FloatTensor(target)\n",
    "        else:\n",
    "            # Training data (train/dev sets)\n",
    "            target = data[:, -1]\n",
    "            data = data[:, feats]\n",
    "            \n",
    "            # Splitting training data into train & dev sets\n",
    "            if mode == 'train':\n",
    "                indices = [i for i in range(len(data)) if i % 10 != 1]\n",
    "            elif mode == 'dev':\n",
    "                indices = [i for i in range(len(data)) if i % 10 == 1]\n",
    "            \n",
    "            # Convert data into PyTorch tensors\n",
    "            self.data = torch.FloatTensor(data[indices])\n",
    "            self.target = torch.FloatTensor(target[indices])\n",
    "\n",
    "        self.dim = self.data.shape[1]\n",
    "\n",
    "        print('Finished reading the {} set of COVID19 Dataset ({} samples found, each dim = {})'\n",
    "              .format(mode, len(self.data), self.dim))\n",
    "\n",
    "    def __getitem__(self, index):\n",
    "        # Returns one sample at a time\n",
    "        if self.mode in ['train', 'dev']:\n",
    "            # For training\n",
    "            return self.data[index], self.target[index]\n",
    "        else:\n",
    "            # For testing (no target)\n",
    "            # return self.data[index]\n",
    "            return self.data[index], self.target[index]\n",
    "\n",
    "    def __len__(self):\n",
    "        # Returns the size of the dataset\n",
    "        return len(self.data)"
   ]
  },
  {
   "cell_type": "markdown",
   "metadata": {
    "id": "AlhTlkE7MDo3"
   },
   "source": [
    "## **DataLoader**\n"
   ]
  },
  {
   "cell_type": "code",
   "execution_count": null,
   "metadata": {
    "id": "hlhLk5t6MBX3"
   },
   "outputs": [],
   "source": [
    "def prep_dataloader(path, mode, batch_size, n_jobs=0, target_only=False):\n",
    "    ''' Generates a dataset, then is put into a dataloader. '''\n",
    "    dataset = COVID19Dataset(path, mode=mode, target_only=target_only)  # Construct dataset\n",
    "    dataloader = DataLoader(\n",
    "        dataset, batch_size,\n",
    "        shuffle=(mode == 'train'), drop_last=False,\n",
    "        num_workers=n_jobs, pin_memory=True)                            # Construct dataloader\n",
    "    return dataloader"
   ]
  },
  {
   "cell_type": "markdown",
   "metadata": {
    "id": "SGuycwR0MeQB"
   },
   "source": [
    "# **Deep Neural Network**\n"
   ]
  },
  {
   "cell_type": "code",
   "execution_count": null,
   "metadata": {
    "id": "49-uXYovOAI0"
   },
   "outputs": [],
   "source": [
    "class NeuralNet(nn.Module):\n",
    "    ''' A simple fully-connected deep neural network '''\n",
    "    def __init__(self, input_dim):\n",
    "        super(NeuralNet, self).__init__()\n",
    "\n",
    "        # model 1\n",
    "        if model_num == 1:\n",
    "            self.net = nn.Sequential(\n",
    "                nn.Linear(input_dim, 1),\n",
    "            )\n",
    "        \n",
    "        # model 2\n",
    "        elif model_num == 2:\n",
    "            self.net = nn.Sequential(        \n",
    "                nn.Linear(input_dim, 64),\n",
    "                nn.ReLU(),\n",
    "                nn.Linear(64, 1),\n",
    "            )\n",
    "            \n",
    "        # model 3\n",
    "        elif model_num == 3:\n",
    "            self.net = nn.Sequential(\n",
    "                nn.Linear(input_dim, 64),\n",
    "                nn.ReLU(),\n",
    "                nn.Linear(64, 256),\n",
    "                nn.ReLU(),\n",
    "                nn.Linear(256, 64),\n",
    "                nn.ReLU(),\n",
    "                nn.Linear(64, 1),\n",
    "            )\n",
    "        \n",
    "        else:\n",
    "            print(\"model selection error\")\n",
    "        \n",
    "\n",
    "        # Mean squared error loss\n",
    "        self.criterion = nn.MSELoss(reduction='mean')\n",
    "\n",
    "    def forward(self, x):\n",
    "        ''' Given input of size (batch_size x input_dim), compute output of the network '''\n",
    "        return self.net(x).squeeze(1)\n",
    "\n",
    "    def cal_loss(self, pred, target):\n",
    "        ''' Calculate loss '''\n",
    "        return self.criterion(pred, target)"
   ]
  },
  {
   "cell_type": "markdown",
   "metadata": {
    "id": "DvFWVjZ5Nvga"
   },
   "source": [
    "# **Train/Dev/Test**"
   ]
  },
  {
   "cell_type": "markdown",
   "metadata": {
    "id": "MAM8QecJOyqn"
   },
   "source": [
    "## **Training**"
   ]
  },
  {
   "cell_type": "code",
   "execution_count": null,
   "metadata": {
    "id": "lOqcmYzMO7jB"
   },
   "outputs": [],
   "source": [
    "def train(tr_set, dv_set, model, config, device):\n",
    "    ''' DNN training '''\n",
    "    n_epochs = config['n_epochs']  # Maximum number of epochs\n",
    "\n",
    "    # Setup optimizer\n",
    "    optimizer = getattr(torch.optim, config['optimizer'])(model.parameters(), **config['optim_hparas'])\n",
    "\n",
    "    min_mse = 1000.0\n",
    "    loss_record = {'train': [], 'dev': []}      # for recording training loss\n",
    "    early_stop_cnt = 0\n",
    "    final_epoch = 0\n",
    "    epoch = 0\n",
    "    while epoch < n_epochs:\n",
    "        model.train()                           # set model to training mode\n",
    "        for x, y in tr_set:                     # iterate through the dataloader\n",
    "            optimizer.zero_grad()               # set gradient to zero\n",
    "            x, y = x.to(device), y.to(device)   # move data to device (cpu/cuda)\n",
    "            pred = model(x)                     # forward pass (compute output)\n",
    "            mse_loss = model.cal_loss(pred, y)  # compute loss\n",
    "            mse_loss.backward()                 # compute gradient (backpropagation)\n",
    "            optimizer.step()                    # update model with optimizer\n",
    "            loss_record['train'].append(mse_loss.detach().cpu().item())\n",
    "\n",
    "        # After each epoch, test model on the validation (development) set.\n",
    "        dev_mse = dev(dv_set, model, device)\n",
    "        if dev_mse < min_mse:\n",
    "            # Save model if model improved\n",
    "            min_mse = dev_mse\n",
    "            print('Saving model (epoch = {:4d}, loss = {:.4f})'.format(epoch + 1, min_mse))\n",
    "            torch.save(model.state_dict(), config['save_path'])  # Save model to specified path\n",
    "            final_epoch = epoch + 1\n",
    "            early_stop_cnt = 0\n",
    "        else:\n",
    "            early_stop_cnt += 1\n",
    "\n",
    "        epoch += 1\n",
    "        loss_record['dev'].append(dev_mse)\n",
    "        if early_stop_cnt > config['early_stop']:\n",
    "            # Stop training if model stops improving for \"config['early_stop']\" epochs.\n",
    "            break\n",
    "\n",
    "    print('Finished training after {} epochs'.format(epoch))\n",
    "    return min_mse, loss_record, final_epoch"
   ]
  },
  {
   "cell_type": "markdown",
   "metadata": {
    "id": "0hSd4Bn3O2PL"
   },
   "source": [
    "## **Validation**"
   ]
  },
  {
   "cell_type": "code",
   "execution_count": null,
   "metadata": {
    "id": "yrxrD3YsN3U2"
   },
   "outputs": [],
   "source": [
    "def dev(dv_set, model, device):\n",
    "    model.eval()                                # set model to evalutation mode\n",
    "    total_loss = 0\n",
    "    for x, y in dv_set:                         # iterate through the dataloader\n",
    "        x, y = x.to(device), y.to(device)       # move data to device (cpu/cuda)\n",
    "        with torch.no_grad():                   # disable gradient calculation\n",
    "            pred = model(x)                     # forward pass (compute output)\n",
    "            mse_loss = model.cal_loss(pred, y)  # compute loss\n",
    "        total_loss += mse_loss.detach().cpu().item() * len(x)  # accumulate loss\n",
    "    total_loss = total_loss / len(dv_set.dataset)              # compute averaged loss\n",
    "\n",
    "    return total_loss"
   ]
  },
  {
   "cell_type": "markdown",
   "metadata": {
    "id": "g0pdrhQAO41L"
   },
   "source": [
    "## **Testing**"
   ]
  },
  {
   "cell_type": "code",
   "execution_count": null,
   "metadata": {
    "id": "aSBMRFlYN5tB"
   },
   "outputs": [],
   "source": [
    "def test(tt_set, model, device):\n",
    "\n",
    "    model.eval()                                # set model to evalutation mode\n",
    "    testing_loss = 0\n",
    "    for x, y in tt_set:                         # iterate through the dataloader\n",
    "        x, y = x.to(device), y.to(device)       # move data to device (cpu/cuda)\n",
    "        with torch.no_grad():                   # disable gradient calculation\n",
    "            pred = model(x)                     # forward pass (compute output)\n",
    "            mse_loss = model.cal_loss(pred, y)  # compute loss\n",
    "        testing_loss += mse_loss.detach().cpu().item() * len(x)  # accumulate loss\n",
    "    testing_loss = testing_loss / len(tt_set.dataset)            # compute averaged loss\n",
    "    \n",
    "    return testing_loss"
   ]
  },
  {
   "cell_type": "markdown",
   "metadata": {
    "id": "SvckkF5dvf0j"
   },
   "source": [
    "# **Setup Hyper-parameters**"
   ]
  },
  {
   "cell_type": "code",
   "execution_count": null,
   "metadata": {
    "id": "NPXpdumwPjE7"
   },
   "outputs": [],
   "source": [
    "device = get_device()                    # Get the current available device ('cpu' or 'cuda')\n",
    "os.makedirs('models', exist_ok=True)     # The trained model will be saved to ./models/\n",
    "target_only = target_only                # Use selected features\n",
    "\n",
    "config = {\n",
    "    'n_epochs': n_epochs,                   # maximum number of epochs\n",
    "    'batch_size': batch_size,               # mini-batch size for dataloader\n",
    "    'optimizer': optimizer,                 # optimization algorithm (optimizer in torch.optim)\n",
    "    'optim_hparas': {                       # hyper-parameters for the optimizer\n",
    "        'lr': lr,                           # learning rate\n",
    "        'weight_decay': weight_decay,       # weight decay: to avoid overfitting\n",
    "        'betas': betas                      # betas: to smooth the training curve\n",
    "        # 'momentum': 0.9                     # momentum for SGD\n",
    "    },\n",
    "    'early_stop': early_stop,               # early stopping epochs (the number epochs since model's last improvement)\n",
    "    'save_path': 'models/model.pth'         # save model\n",
    "}"
   ]
  },
  {
   "cell_type": "markdown",
   "metadata": {
    "id": "6j1eOV3TOH-j"
   },
   "source": [
    "# **Training and Testing**"
   ]
  },
  {
   "cell_type": "code",
   "execution_count": null,
   "metadata": {
    "colab": {
     "base_uri": "https://localhost:8080/"
    },
    "id": "eNrYBMmePLKm",
    "outputId": "2de3865e-c91d-46ac-9b51-9a18e41311bf",
    "scrolled": true
   },
   "outputs": [],
   "source": [
    "final_epochs = []\n",
    "train_final_loss_total = []\n",
    "testing_loss_total = []\n",
    "\n",
    "for i in range(len(day_seq)):\n",
    "    \n",
    "    day_num = day_seq[i]\n",
    "\n",
    "    print(f\"-------------------------------Training day{day_num}-------------------------------\")\n",
    "\n",
    "    '''Set random seed'''\n",
    "    myseed = 42069  # set a random seed for reproducibility\n",
    "    torch.backends.cudnn.deterministic = True\n",
    "    torch.backends.cudnn.benchmark = False\n",
    "    np.random.seed(myseed)\n",
    "    torch.manual_seed(myseed)\n",
    "    if torch.cuda.is_available():\n",
    "        torch.cuda.manual_seed_all(myseed)\n",
    "\n",
    "    '''Set data path'''\n",
    "    tr_path = f'covid.train.{geo_type}.{day_num}day.csv'  # path to training data\n",
    "    tt_path = f'covid.test.{geo_type}.{day_num}day.csv'   # path to testing data\n",
    "\n",
    "    '''Load data and model'''\n",
    "    tr_set = prep_dataloader(tr_path, 'train', config['batch_size'], target_only=target_only)\n",
    "    dv_set = prep_dataloader(tr_path, 'dev', config['batch_size'], target_only=target_only)\n",
    "    tt_set = prep_dataloader(tt_path, 'test', config['batch_size'], target_only=target_only)\n",
    "\n",
    "    model = NeuralNet(tr_set.dataset.dim).to(device)  # Construct model and move to device\n",
    "\n",
    "    '''Start Training'''\n",
    "    model_loss, model_loss_record, final_epoch = train(tr_set, dv_set, model, config, device)\n",
    "\n",
    "    '''Save plots'''\n",
    "    plot_learning_curve(model_loss_record, title='deep model')\n",
    "\n",
    "    del model\n",
    "    model = NeuralNet(tr_set.dataset.dim).to(device)\n",
    "    ckpt = torch.load(config['save_path'], map_location='cpu')  # Load your best model\n",
    "    model.load_state_dict(ckpt)\n",
    "    plot_valid(dv_set, model, device)  # Show prediction on the validation set\n",
    "\n",
    "    '''Testing'''\n",
    "    testing_loss = test(tt_set, model, device)  # predict COVID-19 cases with your model\n",
    "    plot_pred(tt_set, model, device)  # Show prediction on the testing set\n",
    "\n",
    "    '''Save results'''\n",
    "    final_epochs.append(final_epoch)\n",
    "    train_final_loss_total.append(model_loss)\n",
    "    testing_loss_total.append(testing_loss)\n",
    "\n",
    "    '''Print results'''\n",
    "    print('\\nResult:')\n",
    "    print(f'final_epoch_day{day_num} = {final_epoch}')\n",
    "    print(f'train_final_loss_day{day_num} = {model_loss}')\n",
    "    print(f'testing_loss_day{day_num} = {testing_loss}')\n",
    "    print('\\n')"
   ]
  },
  {
   "cell_type": "markdown",
   "metadata": {
    "id": "0xjPMdmAImLd"
   },
   "source": [
    "# **Get output**"
   ]
  },
  {
   "cell_type": "code",
   "execution_count": null,
   "metadata": {
    "id": "CPV5Vv-bB_qL"
   },
   "outputs": [],
   "source": [
    "'''Build dataframe'''\n",
    "final_epoch_sr = pd.Series(final_epochs)\n",
    "train_final_loss_sr = pd.Series(train_final_loss_total)\n",
    "testing_loss_sr = pd.Series(testing_loss_total)\n",
    "\n",
    "result = pd.DataFrame({'exp_num': exp_num,\n",
    "                       'day_num': day_seq,\n",
    "                       'target_only': target_only,\n",
    "                       'model': model_num,\n",
    "                       'model_pr.': model_pr,\n",
    "                       'n_epochs': n_epochs,\n",
    "                       'batch_size': batch_size,\n",
    "                       'optimizer': optimizer,\n",
    "                       'lr': lr,\n",
    "                       'weight_decay': weight_decay,\n",
    "                       'betas': str(betas),\n",
    "                       'early_stop': early_stop,\n",
    "                       'final_epoch': final_epoch_sr, \n",
    "                       'train_final_loss': train_final_loss_sr, \n",
    "                       'testing_loss': testing_loss_sr})\n",
    "\n",
    "result.to_csv(f'data_{geo_type}_exp{exp_num}.csv')"
   ]
  },
  {
   "cell_type": "code",
   "execution_count": null,
   "metadata": {
    "id": "qhLSFVjeB_qL",
    "outputId": "e0ff3063-9901-46d4-8c8b-7a26d9031e35"
   },
   "outputs": [],
   "source": [
    "'''Print dataframe'''\n",
    "result"
   ]
  }
 ],
 "metadata": {
  "accelerator": "GPU",
  "colab": {
   "collapsed_sections": [],
   "name": "code.ipynb",
   "provenance": []
  },
  "kernelspec": {
   "display_name": "Python 3",
   "language": "python",
   "name": "python3"
  },
  "language_info": {
   "codemirror_mode": {
    "name": "ipython",
    "version": 3
   },
   "file_extension": ".py",
   "mimetype": "text/x-python",
   "name": "python",
   "nbconvert_exporter": "python",
   "pygments_lexer": "ipython3",
   "version": "3.8.5"
  }
 },
 "nbformat": 4,
 "nbformat_minor": 1
}
